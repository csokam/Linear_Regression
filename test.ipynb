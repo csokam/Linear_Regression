{
 "cells": [
  {
   "cell_type": "markdown",
   "source": [
    "Importing libraries"
   ],
   "metadata": {}
  },
  {
   "cell_type": "code",
   "execution_count": 1,
   "source": [
    "import pandas as pd\r\n",
    "import matplotlib.pyplot as plt"
   ],
   "outputs": [],
   "metadata": {}
  },
  {
   "cell_type": "markdown",
   "source": [
    "Loading data and column names from data.csv file located in the code directory. The script treats the first column as X axis and the second as Y axis. "
   ],
   "metadata": {}
  },
  {
   "cell_type": "code",
   "execution_count": 2,
   "source": [
    "df = pd.read_csv('data.csv')\r\n",
    "x_axis = df.columns[0]\r\n",
    "y_axis = df.columns[1]"
   ],
   "outputs": [],
   "metadata": {}
  },
  {
   "cell_type": "markdown",
   "source": [
    "The gradient descent function"
   ],
   "metadata": {}
  },
  {
   "cell_type": "code",
   "execution_count": 3,
   "source": [
    "def gradient_descent(m_now, b_now, points, L):\r\n",
    "    m_gradient = 0\r\n",
    "    b_gradient = 0\r\n",
    "    n = len(points)\r\n",
    "    for i in range(n):\r\n",
    "        #x = points.iloc[i].time\r\n",
    "        #y = points.iloc[i].score\r\n",
    "\r\n",
    "        x = getattr(points.iloc[i], x_axis)        \r\n",
    "        y = getattr(points.iloc[i], y_axis)\r\n",
    "\r\n",
    "        m_gradient += -(2/n) * x * (y - (m_now * x + b_now))\r\n",
    "        b_gradient += -(2/n) * (y - (m_now * x + b_now))\r\n",
    "\r\n",
    "    m = m_now - m_gradient * L\r\n",
    "    b = m_now - b_gradient * L\r\n",
    "    return m, b"
   ],
   "outputs": [],
   "metadata": {}
  },
  {
   "cell_type": "markdown",
   "source": [
    "Initialising variables, where m is the slope of the line and b is the y-intercept, L is the learning rate and epoch is the number of iterations."
   ],
   "metadata": {}
  },
  {
   "cell_type": "code",
   "execution_count": 4,
   "source": [
    "m = 0\r\n",
    "b = 0\r\n",
    "L = 0.00001\r\n",
    "epoch = 500"
   ],
   "outputs": [],
   "metadata": {}
  },
  {
   "cell_type": "markdown",
   "source": [
    "Loop calling the gradient_descent function and giving some simple feedback"
   ],
   "metadata": {}
  },
  {
   "cell_type": "code",
   "execution_count": 5,
   "source": [
    "for i in range(epoch):\r\n",
    "    if i % 50 == 0:\r\n",
    "        print(f\"Epoch: {i}\")\r\n",
    "    m, b = gradient_descent(m, b, df, L)"
   ],
   "outputs": [
    {
     "output_type": "stream",
     "name": "stdout",
     "text": [
      "Epoch: 0\n"
     ]
    }
   ],
   "metadata": {}
  },
  {
   "cell_type": "markdown",
   "source": [
    "Simple output for m, b values and column names in case of meaningful naming"
   ],
   "metadata": {}
  },
  {
   "cell_type": "code",
   "execution_count": null,
   "source": [
    "print(f\"Linear regression calculated for the relation of {x_axis} and {y_axis}.\")\r\n",
    "print(m, b)"
   ],
   "outputs": [],
   "metadata": {}
  },
  {
   "cell_type": "markdown",
   "source": [
    "Scatter plot with trendline created with Matplotlib "
   ],
   "metadata": {}
  },
  {
   "cell_type": "code",
   "execution_count": null,
   "source": [
    "plt.scatter(getattr(df, x_axis), getattr(df, y_axis), color='black')\r\n",
    "plt.plot(list(range(30, 500)), [m * x + b for x in range(30, 500)], color='red')\r\n",
    "plt.title(f\"Linear Regression of {x_axis} & {y_axis}\")\r\n",
    "plt.show()"
   ],
   "outputs": [],
   "metadata": {}
  }
 ],
 "metadata": {
  "orig_nbformat": 4,
  "language_info": {
   "name": "python",
   "version": "3.9.1",
   "mimetype": "text/x-python",
   "codemirror_mode": {
    "name": "ipython",
    "version": 3
   },
   "pygments_lexer": "ipython3",
   "nbconvert_exporter": "python",
   "file_extension": ".py"
  },
  "kernelspec": {
   "name": "python3",
   "display_name": "Python 3.9.1 64-bit"
  },
  "interpreter": {
   "hash": "c2e3891098c2e6e729d703edc986ac53272e78fcbc85b5d9bcb1a25e0b3d73b8"
  }
 },
 "nbformat": 4,
 "nbformat_minor": 2
}