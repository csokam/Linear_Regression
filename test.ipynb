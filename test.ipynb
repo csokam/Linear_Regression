{
 "cells": [
  {
   "cell_type": "markdown",
   "metadata": {},
   "source": [
    "Importing libraries"
   ]
  },
  {
   "cell_type": "code",
   "execution_count": 1,
   "metadata": {},
   "outputs": [],
   "source": [
    "import pandas as pd\n",
    "import matplotlib.pyplot as plt"
   ]
  },
  {
   "cell_type": "markdown",
   "metadata": {},
   "source": [
    "Loading data and column names from data.csv file located in the code directory. The script treats the first column as X axis and the second as Y axis. "
   ]
  },
  {
   "cell_type": "code",
   "execution_count": 2,
   "metadata": {},
   "outputs": [],
   "source": [
    "df = pd.read_csv('data.csv')\n",
    "x_axis = df.columns[0]\n",
    "y_axis = df.columns[1]"
   ]
  },
  {
   "cell_type": "markdown",
   "metadata": {},
   "source": [
    "The gradient descent function"
   ]
  },
  {
   "cell_type": "code",
   "execution_count": 3,
   "metadata": {},
   "outputs": [],
   "source": [
    "def gradient_descent(m_now, b_now, points, L):\n",
    "    m_gradient = 0\n",
    "    b_gradient = 0\n",
    "    n = len(points)\n",
    "    for i in range(n):\n",
    "        #x = points.iloc[i].time\n",
    "        #y = points.iloc[i].score\n",
    "\n",
    "        x = getattr(points.iloc[i], x_axis)        \n",
    "        y = getattr(points.iloc[i], y_axis)\n",
    "\n",
    "        m_gradient += -(2/n) * x * (y - (m_now * x + b_now))\n",
    "        b_gradient += -(2/n) * (y - (m_now * x + b_now))\n",
    "\n",
    "    m = m_now - m_gradient * L\n",
    "    b = m_now - b_gradient * L\n",
    "    return m, b"
   ]
  },
  {
   "cell_type": "markdown",
   "metadata": {},
   "source": [
    "Initialising variables, where m is the slope of the line and b is the y-intercept, L is the learning rate and epoch is the number of iterations."
   ]
  },
  {
   "cell_type": "code",
   "execution_count": 4,
   "metadata": {},
   "outputs": [],
   "source": [
    "m = 0\n",
    "b = 0\n",
    "L = 0.00001\n",
    "epoch = 500"
   ]
  },
  {
   "cell_type": "markdown",
   "metadata": {},
   "source": [
    "Loop calling the gradient_descent function and giving some simple feedback"
   ]
  },
  {
   "cell_type": "code",
   "execution_count": 5,
   "metadata": {},
   "outputs": [
    {
     "name": "stdout",
     "output_type": "stream",
     "text": [
      "Epoch: 0\n",
      "Epoch: 50\n",
      "Epoch: 100\n",
      "Epoch: 150\n",
      "Epoch: 200\n",
      "Epoch: 250\n",
      "Epoch: 300\n",
      "Epoch: 350\n",
      "Epoch: 400\n",
      "Epoch: 450\n"
     ]
    }
   ],
   "source": [
    "for i in range(epoch):\n",
    "    if i % 50 == 0:\n",
    "        print(f\"Epoch: {i}\")\n",
    "    m, b = gradient_descent(m, b, df, L)"
   ]
  },
  {
   "cell_type": "markdown",
   "metadata": {},
   "source": [
    "Simple output for m, b values and column names in case of meaningful naming"
   ]
  },
  {
   "cell_type": "code",
   "execution_count": 6,
   "metadata": {},
   "outputs": [
    {
     "name": "stdout",
     "output_type": "stream",
     "text": [
      "Linear regression calculated for the relation of study_time(min) and score.\n",
      "0.1855643713670333 0.1856383444923147\n"
     ]
    }
   ],
   "source": [
    "print(f\"Linear regression calculated for the relation of {x_axis} and {y_axis}.\")\n",
    "print(m, b)"
   ]
  },
  {
   "cell_type": "markdown",
   "metadata": {},
   "source": [
    "Scatter plot with trendline created with Matplotlib "
   ]
  },
  {
   "cell_type": "code",
   "execution_count": 7,
   "metadata": {},
   "outputs": [
    {
     "data": {
      "image/png": "[encoded data removed]",
      "text/plain": [
       "<Figure size 432x288 with 1 Axes>"
      ]
     },
     "metadata": {
      "needs_background": "light"
     },
     "output_type": "display_data"
    }
   ],
   "source": [
    "plt.scatter(getattr(df, x_axis), getattr(df, y_axis), color='black')\n",
    "plt.plot(list(range(30, 500)), [m * x + b for x in range(30, 500)], color='red')\n",
    "plt.title(f\"Linear Regression of {x_axis} & {y_axis}\")\n",
    "plt.show()"
   ]
  }
 ],
 "metadata": {
  "interpreter": {
   "hash": "c2e3891098c2e6e729d703edc986ac53272e78fcbc85b5d9bcb1a25e0b3d73b8"
  },
  "kernelspec": {
   "display_name": "Python 3.9.1 64-bit",
   "name": "python3"
  },
  "language_info": {
   "codemirror_mode": {
    "name": "ipython",
    "version": 3
   },
   "file_extension": ".py",
   "mimetype": "text/x-python",
   "name": "python",
   "nbconvert_exporter": "python",
   "pygments_lexer": "ipython3",
   "version": "3.9.1"
  },
  "orig_nbformat": 4
 },
 "nbformat": 4,
 "nbformat_minor": 2
}
